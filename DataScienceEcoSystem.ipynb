{
 "cells": [
  {
   "cell_type": "code",
   "execution_count": 7,
   "id": "0cd4354d-4b11-48b5-9e74-a7e060b2ced0",
   "metadata": {
    "tags": []
   },
   "outputs": [
    {
     "data": {
      "text/plain": [
       "3.3333333333333335"
      ]
     },
     "execution_count": 7,
     "metadata": {},
     "output_type": "execute_result"
    }
   ],
   "source": [
    "# this will convert 200 minutes to hours by dividing by 60\n",
    "\n",
    "200/60"
   ]
  },
  {
   "cell_type": "markdown",
   "id": "45618d10-8a95-465b-a0b8-19d8079377f4",
   "metadata": {},
   "source": [
    "# Exercise 10\n",
    "\n",
    "**Objectives:**\n",
    "\n",
    "+ List popular languages for data science.\n",
    "+ Create a jupyter notebook.\n",
    "+ List popular tools for data science.\n",
    "+ Create a markdown cell introducing arithmetic expression examples\n"
   ]
  },
  {
   "cell_type": "markdown",
   "id": "bffdbee2-7046-4977-b0a7-dc4954af112e",
   "metadata": {},
   "source": [
    "# Exercise 10\n",
    "\n",
    "**Objectives:**\n",
    "\n",
    "+ List popular languages for data science.\n",
    "+ Create a jupyter notebook.\n",
    "+ List popular tools for data science.\n",
    "+ Create a markdown cell introducing arithmetic expression examples\n"
   ]
  },
  {
   "cell_type": "markdown",
   "id": "9cf4c9a6-d1f9-4809-b13c-af4af1d99249",
   "metadata": {},
   "source": [
    "## Author\n",
    "Bayarkhuu Ganzorig"
   ]
  },
  {
   "cell_type": "markdown",
   "id": "ec90da2c-4fe2-43f5-ba97-5535acf478a9",
   "metadata": {},
   "source": [
    "## Author\n",
    "Bayarkhuu Ganzorig"
   ]
  }
 ],
 "metadata": {
  "kernelspec": {
   "display_name": "Python",
   "language": "python",
   "name": "conda-env-python-py"
  },
  "language_info": {
   "codemirror_mode": {
    "name": "ipython",
    "version": 3
   },
   "file_extension": ".py",
   "mimetype": "text/x-python",
   "name": "python",
   "nbconvert_exporter": "python",
   "pygments_lexer": "ipython3",
   "version": "3.7.12"
  }
 },
 "nbformat": 4,
 "nbformat_minor": 5
}
